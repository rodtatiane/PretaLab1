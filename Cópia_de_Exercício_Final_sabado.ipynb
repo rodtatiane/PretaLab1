{
  "nbformat": 4,
  "nbformat_minor": 0,
  "metadata": {
    "colab": {
      "provenance": [],
      "include_colab_link": true
    },
    "kernelspec": {
      "name": "python3",
      "display_name": "Python 3"
    },
    "language_info": {
      "name": "python"
    }
  },
  "cells": [
    {
      "cell_type": "markdown",
      "metadata": {
        "id": "view-in-github",
        "colab_type": "text"
      },
      "source": [
        "<a href=\"https://colab.research.google.com/github/rodtatiane/PretaLab1/blob/main/C%C3%B3pia_de_Exerc%C3%ADcio_Final_sabado.ipynb\" target=\"_parent\"><img src=\"https://colab.research.google.com/assets/colab-badge.svg\" alt=\"Open In Colab\"/></a>"
      ]
    },
    {
      "cell_type": "markdown",
      "source": [
        "# Contagem de Medalhas\n",
        "\n",
        "Crie um programa que receba o número de medalhas de ouro, prata e bronze de um país nas Olimpíadas e calcule o total de medalhas.\n",
        "Quando escrever 'sair', o programa deverá encerrar e mostrar na tela o ranking de medalhas no formato:"
      ],
      "metadata": {
        "id": "RQN1e5FZY6SZ"
      }
    },
    {
      "cell_type": "code",
      "source": [
        "#Ranking de medalhas:\n",
        "#Brasil: 7 medalhas\n",
        "#França: 6 medalhas\n",
        "#Argentina: 3 medalhas"
      ],
      "metadata": {
        "id": "gCq_KLHzZSzb"
      },
      "execution_count": null,
      "outputs": []
    },
    {
      "cell_type": "code",
      "execution_count": null,
      "metadata": {
        "id": "AJJhjxiPTd5s",
        "colab": {
          "base_uri": "https://localhost:8080/"
        },
        "outputId": "2fad88fa-1b6a-4579-c794-f189e162521c"
      },
      "outputs": [
        {
          "output_type": "stream",
          "name": "stdout",
          "text": [
            "Digite o nome do país (ou 'sair' para terminar): brasil\n",
            "Digite o número de medalhas de ouro : 1\n",
            "Digite o número de medalhas de prata  : 2\n",
            "Digite o número de medalhas de bronze : 4\n",
            "Digite o nome do país (ou 'sair' para terminar): italia\n",
            "Digite o número de medalhas de ouro : 4\n",
            "Digite o número de medalhas de prata  : 5\n",
            "Digite o número de medalhas de bronze : 3\n",
            "Digite o nome do país (ou 'sair' para terminar): grecia\n",
            "Digite o número de medalhas de ouro : 4\n",
            "Digite o número de medalhas de prata  : 5\n",
            "Digite o número de medalhas de bronze : 6\n",
            "Digite o nome do país (ou 'sair' para terminar): sair\n",
            "\n",
            "Ranking de Medalhas:\n",
            "brasil: 7 medalha\n",
            "italia: 12 medalha\n",
            "grecia: 15 medalha\n"
          ]
        }
      ],
      "source": [
        "# Resposta aqui\n",
        "def main():\n",
        "    medalhas = {}\n",
        "\n",
        "    while True:\n",
        "        nome_pais = input(\"Digite o nome do país (ou 'sair' para terminar): \")\n",
        "        if nome_pais.lower() == 'sair':\n",
        "            break\n",
        "\n",
        "        ouro = int(input(f\"Digite o número de medalhas de ouro : \"))\n",
        "        prata = int(input(f\"Digite o número de medalhas de prata  : \"))\n",
        "        bronze = int(input(f\"Digite o número de medalhas de bronze : \"))\n",
        "\n",
        "        total = ouro + prata + bronze\n",
        "        medalhas[nome_pais] = {'total': total}\n",
        "\n",
        "    print(\"\\nRanking de Medalhas:\")\n",
        "    for pais, medalha in medalhas.items():\n",
        "        print(f\"{pais}: {medalha['total']} medalhas\")\n",
        "\n",
        "if __name__ == \"__main__\":\n",
        "    main()"
      ]
    }
  ]
}